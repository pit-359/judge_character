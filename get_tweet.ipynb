{
 "cells": [
  {
   "cell_type": "code",
   "execution_count": 10,
   "metadata": {
    "collapsed": true
   },
   "outputs": [],
   "source": [
    "import tweepy\n",
    "import MeCab\n",
    "import pymongo\n",
    "from pymongo import MongoClient"
   ]
  },
  {
   "cell_type": "code",
   "execution_count": 6,
   "metadata": {
    "collapsed": true
   },
   "outputs": [],
   "source": [
    "connect = MongoClient('localhost', 27017)"
   ]
  },
  {
   "cell_type": "code",
   "execution_count": 11,
   "metadata": {
    "collapsed": true
   },
   "outputs": [],
   "source": [
    "#!/usr/bin/env python\n",
    "# coding: utf-8\n",
    "CONSUMER_KEY = 'en35U31mW3P9EAqZvR6KXkZ2h'\n",
    "CONSUMER_SECRET = 'JWoHyJU5KRnbeWjb17hVHAQsiPFgwGwvBkZSkRsARrApZqNEKd'\n",
    "auth = tweepy.OAuthHandler(CONSUMER_KEY, CONSUMER_SECRET)\n",
    "ACCESS_TOKEN = '868744152753647617-ei1ptGYVwJqgv2zy7f09fPVuFrsYbLY'\n",
    "ACCESS_SECRET = 'VHQQ1g1MDTUMRufrF2mojkxiig47qEc7ghcGj32fyMX1f'\n",
    "auth.set_access_token(ACCESS_TOKEN, ACCESS_SECRET)\n",
    "api = tweepy.API(auth)"
   ]
  },
  {
   "cell_type": "code",
   "execution_count": 12,
   "metadata": {
    "collapsed": true
   },
   "outputs": [],
   "source": [
    "result = api.search(q='レシピ')"
   ]
  },
  {
   "cell_type": "code",
   "execution_count": 13,
   "metadata": {},
   "outputs": [
    {
     "data": {
      "text/plain": [
       "Status(_api=<tweepy.api.API object at 0x7efe4a87ef28>, _json={'created_at': 'Tue Jun 20 05:44:21 +0000 2017', 'id': 877039395336970240, 'id_str': '877039395336970240', 'text': 'ジョイポリスで艦これアーケードなう。\\n北上改が⭐５になったんで、あとはドロップ建造で改二待ちだが、いつになることやらw\\n\\n建造\\u3000飛鷹(321レシピ)', 'truncated': False, 'entities': {'hashtags': [], 'symbols': [], 'user_mentions': [], 'urls': []}, 'metadata': {'iso_language_code': 'ja', 'result_type': 'recent'}, 'source': '<a href=\"http://twitter.com/download/android\" rel=\"nofollow\">Twitter for Android</a>', 'in_reply_to_status_id': None, 'in_reply_to_status_id_str': None, 'in_reply_to_user_id': None, 'in_reply_to_user_id_str': None, 'in_reply_to_screen_name': None, 'user': {'id': 121388408, 'id_str': '121388408', 'name': 'ＦＵＳＯきゃろる', 'screen_name': 'fusocarol', 'location': '岡山 岡山市 中区\\u3000(1992～1994福岡市 南区)', 'description': '乗り鉄、乗りバス、撮りバスなどなどやってます。\\nQMAトーキョーグリモワール参戦中。\\n艦これ・艦これアーケード提督業兼任。(2016年９月～)\\n\\n●主なキーワード●\\nQMA 艦これ 艦これアーケード tamayura 儀武ゆう子 バス 鉄道', 'url': 'https://t.co/Jno9PFnu1U', 'entities': {'url': {'urls': [{'url': 'https://t.co/Jno9PFnu1U', 'expanded_url': 'http://blog.livedoor.jp/fusocarol', 'display_url': 'blog.livedoor.jp/fusocarol', 'indices': [0, 23]}]}, 'description': {'urls': []}}, 'protected': False, 'followers_count': 1461, 'friends_count': 654, 'listed_count': 40, 'created_at': 'Tue Mar 09 10:21:46 +0000 2010', 'favourites_count': 0, 'utc_offset': 32400, 'time_zone': 'Tokyo', 'geo_enabled': True, 'verified': False, 'statuses_count': 120703, 'lang': 'ja', 'contributors_enabled': False, 'is_translator': False, 'is_translation_enabled': False, 'profile_background_color': '642D8B', 'profile_background_image_url': 'http://abs.twimg.com/images/themes/theme10/bg.gif', 'profile_background_image_url_https': 'https://abs.twimg.com/images/themes/theme10/bg.gif', 'profile_background_tile': True, 'profile_image_url': 'http://pbs.twimg.com/profile_images/1322278203/20110423211237_normal.jpg', 'profile_image_url_https': 'https://pbs.twimg.com/profile_images/1322278203/20110423211237_normal.jpg', 'profile_banner_url': 'https://pbs.twimg.com/profile_banners/121388408/1427064011', 'profile_link_color': 'FF0000', 'profile_sidebar_border_color': '65B0DA', 'profile_sidebar_fill_color': '7AC3EE', 'profile_text_color': '3D1957', 'profile_use_background_image': True, 'has_extended_profile': True, 'default_profile': False, 'default_profile_image': False, 'following': False, 'follow_request_sent': False, 'notifications': False, 'translator_type': 'none'}, 'geo': None, 'coordinates': None, 'place': {'id': '2e0214bf8fffce3e', 'url': 'https://api.twitter.com/1.1/geo/id/2e0214bf8fffce3e.json', 'place_type': 'city', 'name': 'Kita-ku', 'full_name': 'Kita-ku, Okayama', 'country_code': 'JP', 'country': 'Japan', 'contained_within': [], 'bounding_box': {'type': 'Polygon', 'coordinates': [[[133.739451, 34.618703], [133.994635, 34.618703], [133.994635, 34.948925], [133.739451, 34.948925]]]}, 'attributes': {}}, 'contributors': None, 'is_quote_status': False, 'retweet_count': 0, 'favorite_count': 0, 'favorited': False, 'retweeted': False, 'lang': 'ja'}, created_at=datetime.datetime(2017, 6, 20, 5, 44, 21), id=877039395336970240, id_str='877039395336970240', text='ジョイポリスで艦これアーケードなう。\\n北上改が⭐５になったんで、あとはドロップ建造で改二待ちだが、いつになることやらw\\n\\n建造\\u3000飛鷹(321レシピ)', truncated=False, entities={'hashtags': [], 'symbols': [], 'user_mentions': [], 'urls': []}, metadata={'iso_language_code': 'ja', 'result_type': 'recent'}, source='Twitter for Android', source_url='http://twitter.com/download/android', in_reply_to_status_id=None, in_reply_to_status_id_str=None, in_reply_to_user_id=None, in_reply_to_user_id_str=None, in_reply_to_screen_name=None, author=User(_api=<tweepy.api.API object at 0x7efe4a87ef28>, _json={'id': 121388408, 'id_str': '121388408', 'name': 'ＦＵＳＯきゃろる', 'screen_name': 'fusocarol', 'location': '岡山 岡山市 中区\\u3000(1992～1994福岡市 南区)', 'description': '乗り鉄、乗りバス、撮りバスなどなどやってます。\\nQMAトーキョーグリモワール参戦中。\\n艦これ・艦これアーケード提督業兼任。(2016年９月～)\\n\\n●主なキーワード●\\nQMA 艦これ 艦これアーケード tamayura 儀武ゆう子 バス 鉄道', 'url': 'https://t.co/Jno9PFnu1U', 'entities': {'url': {'urls': [{'url': 'https://t.co/Jno9PFnu1U', 'expanded_url': 'http://blog.livedoor.jp/fusocarol', 'display_url': 'blog.livedoor.jp/fusocarol', 'indices': [0, 23]}]}, 'description': {'urls': []}}, 'protected': False, 'followers_count': 1461, 'friends_count': 654, 'listed_count': 40, 'created_at': 'Tue Mar 09 10:21:46 +0000 2010', 'favourites_count': 0, 'utc_offset': 32400, 'time_zone': 'Tokyo', 'geo_enabled': True, 'verified': False, 'statuses_count': 120703, 'lang': 'ja', 'contributors_enabled': False, 'is_translator': False, 'is_translation_enabled': False, 'profile_background_color': '642D8B', 'profile_background_image_url': 'http://abs.twimg.com/images/themes/theme10/bg.gif', 'profile_background_image_url_https': 'https://abs.twimg.com/images/themes/theme10/bg.gif', 'profile_background_tile': True, 'profile_image_url': 'http://pbs.twimg.com/profile_images/1322278203/20110423211237_normal.jpg', 'profile_image_url_https': 'https://pbs.twimg.com/profile_images/1322278203/20110423211237_normal.jpg', 'profile_banner_url': 'https://pbs.twimg.com/profile_banners/121388408/1427064011', 'profile_link_color': 'FF0000', 'profile_sidebar_border_color': '65B0DA', 'profile_sidebar_fill_color': '7AC3EE', 'profile_text_color': '3D1957', 'profile_use_background_image': True, 'has_extended_profile': True, 'default_profile': False, 'default_profile_image': False, 'following': False, 'follow_request_sent': False, 'notifications': False, 'translator_type': 'none'}, id=121388408, id_str='121388408', name='ＦＵＳＯきゃろる', screen_name='fusocarol', location='岡山 岡山市 中区\\u3000(1992～1994福岡市 南区)', description='乗り鉄、乗りバス、撮りバスなどなどやってます。\\nQMAトーキョーグリモワール参戦中。\\n艦これ・艦これアーケード提督業兼任。(2016年９月～)\\n\\n●主なキーワード●\\nQMA 艦これ 艦これアーケード tamayura 儀武ゆう子 バス 鉄道', url='https://t.co/Jno9PFnu1U', entities={'url': {'urls': [{'url': 'https://t.co/Jno9PFnu1U', 'expanded_url': 'http://blog.livedoor.jp/fusocarol', 'display_url': 'blog.livedoor.jp/fusocarol', 'indices': [0, 23]}]}, 'description': {'urls': []}}, protected=False, followers_count=1461, friends_count=654, listed_count=40, created_at=datetime.datetime(2010, 3, 9, 10, 21, 46), favourites_count=0, utc_offset=32400, time_zone='Tokyo', geo_enabled=True, verified=False, statuses_count=120703, lang='ja', contributors_enabled=False, is_translator=False, is_translation_enabled=False, profile_background_color='642D8B', profile_background_image_url='http://abs.twimg.com/images/themes/theme10/bg.gif', profile_background_image_url_https='https://abs.twimg.com/images/themes/theme10/bg.gif', profile_background_tile=True, profile_image_url='http://pbs.twimg.com/profile_images/1322278203/20110423211237_normal.jpg', profile_image_url_https='https://pbs.twimg.com/profile_images/1322278203/20110423211237_normal.jpg', profile_banner_url='https://pbs.twimg.com/profile_banners/121388408/1427064011', profile_link_color='FF0000', profile_sidebar_border_color='65B0DA', profile_sidebar_fill_color='7AC3EE', profile_text_color='3D1957', profile_use_background_image=True, has_extended_profile=True, default_profile=False, default_profile_image=False, following=False, follow_request_sent=False, notifications=False, translator_type='none'), user=User(_api=<tweepy.api.API object at 0x7efe4a87ef28>, _json={'id': 121388408, 'id_str': '121388408', 'name': 'ＦＵＳＯきゃろる', 'screen_name': 'fusocarol', 'location': '岡山 岡山市 中区\\u3000(1992～1994福岡市 南区)', 'description': '乗り鉄、乗りバス、撮りバスなどなどやってます。\\nQMAトーキョーグリモワール参戦中。\\n艦これ・艦これアーケード提督業兼任。(2016年９月～)\\n\\n●主なキーワード●\\nQMA 艦これ 艦これアーケード tamayura 儀武ゆう子 バス 鉄道', 'url': 'https://t.co/Jno9PFnu1U', 'entities': {'url': {'urls': [{'url': 'https://t.co/Jno9PFnu1U', 'expanded_url': 'http://blog.livedoor.jp/fusocarol', 'display_url': 'blog.livedoor.jp/fusocarol', 'indices': [0, 23]}]}, 'description': {'urls': []}}, 'protected': False, 'followers_count': 1461, 'friends_count': 654, 'listed_count': 40, 'created_at': 'Tue Mar 09 10:21:46 +0000 2010', 'favourites_count': 0, 'utc_offset': 32400, 'time_zone': 'Tokyo', 'geo_enabled': True, 'verified': False, 'statuses_count': 120703, 'lang': 'ja', 'contributors_enabled': False, 'is_translator': False, 'is_translation_enabled': False, 'profile_background_color': '642D8B', 'profile_background_image_url': 'http://abs.twimg.com/images/themes/theme10/bg.gif', 'profile_background_image_url_https': 'https://abs.twimg.com/images/themes/theme10/bg.gif', 'profile_background_tile': True, 'profile_image_url': 'http://pbs.twimg.com/profile_images/1322278203/20110423211237_normal.jpg', 'profile_image_url_https': 'https://pbs.twimg.com/profile_images/1322278203/20110423211237_normal.jpg', 'profile_banner_url': 'https://pbs.twimg.com/profile_banners/121388408/1427064011', 'profile_link_color': 'FF0000', 'profile_sidebar_border_color': '65B0DA', 'profile_sidebar_fill_color': '7AC3EE', 'profile_text_color': '3D1957', 'profile_use_background_image': True, 'has_extended_profile': True, 'default_profile': False, 'default_profile_image': False, 'following': False, 'follow_request_sent': False, 'notifications': False, 'translator_type': 'none'}, id=121388408, id_str='121388408', name='ＦＵＳＯきゃろる', screen_name='fusocarol', location='岡山 岡山市 中区\\u3000(1992～1994福岡市 南区)', description='乗り鉄、乗りバス、撮りバスなどなどやってます。\\nQMAトーキョーグリモワール参戦中。\\n艦これ・艦これアーケード提督業兼任。(2016年９月～)\\n\\n●主なキーワード●\\nQMA 艦これ 艦これアーケード tamayura 儀武ゆう子 バス 鉄道', url='https://t.co/Jno9PFnu1U', entities={'url': {'urls': [{'url': 'https://t.co/Jno9PFnu1U', 'expanded_url': 'http://blog.livedoor.jp/fusocarol', 'display_url': 'blog.livedoor.jp/fusocarol', 'indices': [0, 23]}]}, 'description': {'urls': []}}, protected=False, followers_count=1461, friends_count=654, listed_count=40, created_at=datetime.datetime(2010, 3, 9, 10, 21, 46), favourites_count=0, utc_offset=32400, time_zone='Tokyo', geo_enabled=True, verified=False, statuses_count=120703, lang='ja', contributors_enabled=False, is_translator=False, is_translation_enabled=False, profile_background_color='642D8B', profile_background_image_url='http://abs.twimg.com/images/themes/theme10/bg.gif', profile_background_image_url_https='https://abs.twimg.com/images/themes/theme10/bg.gif', profile_background_tile=True, profile_image_url='http://pbs.twimg.com/profile_images/1322278203/20110423211237_normal.jpg', profile_image_url_https='https://pbs.twimg.com/profile_images/1322278203/20110423211237_normal.jpg', profile_banner_url='https://pbs.twimg.com/profile_banners/121388408/1427064011', profile_link_color='FF0000', profile_sidebar_border_color='65B0DA', profile_sidebar_fill_color='7AC3EE', profile_text_color='3D1957', profile_use_background_image=True, has_extended_profile=True, default_profile=False, default_profile_image=False, following=False, follow_request_sent=False, notifications=False, translator_type='none'), geo=None, coordinates=None, place=Place(_api=<tweepy.api.API object at 0x7efe4a87ef28>, id='2e0214bf8fffce3e', url='https://api.twitter.com/1.1/geo/id/2e0214bf8fffce3e.json', place_type='city', name='Kita-ku', full_name='Kita-ku, Okayama', country_code='JP', country='Japan', contained_within=[], bounding_box=BoundingBox(_api=<tweepy.api.API object at 0x7efe4a87ef28>, type='Polygon', coordinates=[[[133.739451, 34.618703], [133.994635, 34.618703], [133.994635, 34.948925], [133.739451, 34.948925]]]), attributes={}), contributors=None, is_quote_status=False, retweet_count=0, favorite_count=0, favorited=False, retweeted=False, lang='ja')"
      ]
     },
     "execution_count": 13,
     "metadata": {},
     "output_type": "execute_result"
    }
   ],
   "source": [
    "result[0]"
   ]
  },
  {
   "cell_type": "code",
   "execution_count": 7,
   "metadata": {},
   "outputs": [
    {
     "data": {
      "text/plain": [
       "'形態素\\t名詞,一般,*,*,*,*,形態素,ケイタイソ,ケイタイソ\\n解析\\t名詞,サ変接続,*,*,*,*,解析,カイセキ,カイセキ\\nし\\t動詞,自立,*,*,サ変・スル,連用形,する,シ,シ\\nた\\t助動詞,*,*,*,特殊・タ,基本形,た,タ,タ\\n結果\\t名詞,副詞可能,*,*,*,*,結果,ケッカ,ケッカ\\nEOS\\n'"
      ]
     },
     "execution_count": 7,
     "metadata": {},
     "output_type": "execute_result"
    }
   ],
   "source": [
    "MeCab.Tagger().parse('形態素解析した結果')"
   ]
  },
  {
   "cell_type": "code",
   "execution_count": 14,
   "metadata": {
    "scrolled": true
   },
   "outputs": [
    {
     "data": {
      "text/plain": [
       "'ジョイポリス\\t名詞,一般,*,*,*,*,*\\nで\\t助詞,格助詞,一般,*,*,*,で,デ,デ\\n艦\\t名詞,一般,*,*,*,*,艦,カン,カン\\nこれ\\t名詞,代名詞,一般,*,*,*,これ,コレ,コレ\\nアーケード\\t名詞,一般,*,*,*,*,アーケード,アーケード,アーケード\\nなう\\t形容詞,自立,*,*,形容詞・アウオ段,連用ゴザイ接続,ない,ナウ,ナー\\n。\\t記号,句点,*,*,*,*,。,。,。\\n北上\\t名詞,サ変接続,*,*,*,*,北上,ホクジョウ,ホクジョー\\n改\\t名詞,一般,*,*,*,*,改,アラタメ,アラタメ\\nが\\t助詞,格助詞,一般,*,*,*,が,ガ,ガ\\n⭐\\t名詞,サ変接続,*,*,*,*,*\\n５\\t名詞,数,*,*,*,*,５,ゴ,ゴ\\nに\\t助詞,格助詞,一般,*,*,*,に,ニ,ニ\\nなっ\\t動詞,自立,*,*,五段・ラ行,連用タ接続,なる,ナッ,ナッ\\nた\\t助動詞,*,*,*,特殊・タ,基本形,た,タ,タ\\nんで\\t助詞,接続助詞,*,*,*,*,んで,ンデ,ンデ\\n、\\t記号,読点,*,*,*,*,、,、,、\\nあと\\t名詞,一般,*,*,*,*,あと,アト,アト\\nは\\t助詞,係助詞,*,*,*,*,は,ハ,ワ\\nドロップ\\t名詞,一般,*,*,*,*,ドロップ,ドロップ,ドロップ\\n建造\\t名詞,サ変接続,*,*,*,*,建造,ケンゾウ,ケンゾー\\nで\\t助詞,格助詞,一般,*,*,*,で,デ,デ\\n改\\t名詞,一般,*,*,*,*,改,アラタメ,アラタメ\\n二\\t名詞,数,*,*,*,*,二,ニ,ニ\\n待ち\\t名詞,一般,*,*,*,*,待ち,マチ,マチ\\nだ\\t助動詞,*,*,*,特殊・ダ,基本形,だ,ダ,ダ\\nが\\t助詞,接続助詞,*,*,*,*,が,ガ,ガ\\n、\\t記号,読点,*,*,*,*,、,、,、\\nいつ\\t名詞,代名詞,一般,*,*,*,いつ,イツ,イツ\\nに\\t助詞,格助詞,一般,*,*,*,に,ニ,ニ\\nなる\\t動詞,自立,*,*,五段・ラ行,基本形,なる,ナル,ナル\\nこと\\t名詞,非自立,一般,*,*,*,こと,コト,コト\\nやら\\t助詞,並立助詞,*,*,*,*,やら,ヤラ,ヤラ\\nw\\t名詞,固有名詞,組織,*,*,*,*\\n建造\\t名詞,サ変接続,*,*,*,*,建造,ケンゾウ,ケンゾー\\n\\u3000\\t記号,空白,*,*,*,*,\\u3000,\\u3000,\\u3000\\n飛\\t名詞,一般,*,*,*,*,飛,ヒ,ヒ\\n鷹\\t名詞,一般,*,*,*,*,鷹,タカ,タカ\\n(\\t名詞,サ変接続,*,*,*,*,*\\n321\\t名詞,数,*,*,*,*,*\\nレシピ\\t名詞,一般,*,*,*,*,レシピ,レシピ,レシピ\\n)\\t名詞,サ変接続,*,*,*,*,*\\nEOS\\n'"
      ]
     },
     "execution_count": 14,
     "metadata": {},
     "output_type": "execute_result"
    }
   ],
   "source": [
    "MeCab.Tagger().parse(result[0].text)"
   ]
  }
 ],
 "metadata": {
  "kernelspec": {
   "display_name": "Python 3",
   "language": "python",
   "name": "python3"
  },
  "language_info": {
   "codemirror_mode": {
    "name": "ipython",
    "version": 3
   },
   "file_extension": ".py",
   "mimetype": "text/x-python",
   "name": "python",
   "nbconvert_exporter": "python",
   "pygments_lexer": "ipython3",
   "version": "3.6.1"
  }
 },
 "nbformat": 4,
 "nbformat_minor": 2
}
