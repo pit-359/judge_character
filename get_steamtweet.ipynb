{
 "cells": [
  {
   "cell_type": "code",
   "execution_count": 1,
   "metadata": {
    "collapsed": true
   },
   "outputs": [],
   "source": [
    "from pytz import timezone\n",
    "from dateutil import parser\n",
    "from datetime import datetime\n",
    "from elasticsearch import Elasticsearch\n",
    "from twitter import Twitter, TwitterStream, OAuth\n",
    "from threading import Timer, get_ident\n",
    "\n",
    "# https://apps.twitter.com/ でTwitterアプリを登録して取得したOAuthキーを設定。\n",
    "OAUTH_INFO = dict(\n",
    "    token=\"868744152753647617-ei1ptGYVwJqgv2zy7f09fPVuFrsYbLY\",\n",
    "    token_secret=\"VHQQ1g1MDTUMRufrF2mojkxiig47qEc7ghcGj32fyMX1f\",\n",
    "    consumer_key=\"en35U31mW3P9EAqZvR6KXkZ2h\",\n",
    "    consumer_secret=\"JWoHyJU5KRnbeWjb17hVHAQsiPFgwGwvBkZSkRsARrApZqNEKd\")\n",
    "\n",
    "STREAM_INFO = dict(\n",
    "    timeout=600,\n",
    "    block=False,\n",
    "    heartbeat_timeout=600) # デフォルトだと90秒でストリーム維持のためのheartbeatが飛んで来るので10分に設定\n",
    "\n",
    "JST = timezone('Asia/Tokyo')\n",
    "WOEID_JP = 23424856 # 日本のWOEID\n"
   ]
  },
  {
   "cell_type": "code",
   "execution_count": 2,
   "metadata": {
    "collapsed": true
   },
   "outputs": [],
   "source": [
    "#トレンドの取得\n",
    "class TwitterTrendStream():\n",
    "\n",
    "    def __init__(self):\n",
    "        self.__current_thread_ident = None\n",
    "        self.__oauth = OAuth(**OAUTH_INFO)\n",
    "        self.__es = Elasticsearch()\n",
    "\n",
    "    def __fetch_trands(self, twitter):\n",
    "        response = twitter.trends.place(_id=WOEID_JP)\n",
    "        return [trend[\"name\"] for trend in response[0][\"trends\"]]\n",
    "\n",
    "    def __fetch_filter_stream(self, twitter_stream, track_list):\n",
    "        track = \",\".join(track_list)\n",
    "        return twitter_stream.statuses.filter(track=track)\n",
    "\n",
    "    def run(self):\n",
    "        self.__current_thread_ident = get_ident() # 現在の実行スレッドIDを登録\n",
    "        Timer(300, self.run).start()              # ５分後に新たなスレッドを開始\n",
    "\n",
    "        twitter = Twitter(auth=self.__oauth)\n",
    "        twitter_stream = TwitterStream(auth=self.__oauth, **STREAM_INFO)\n",
    "\n",
    "        trend_list = self.__fetch_trands(twitter)\n",
    "        tweet_iter = self.__fetch_filter_stream(twitter_stream, trend_list)\n",
    "\n",
    "        for tweet in tweet_iter:\n",
    "            if \"limit\" in tweet: # 取得上限超えた時にくるLimit Jsonは無視\n",
    "                continue\n",
    "\n",
    "            if self.__current_thread_ident != get_ident(): # 新たなスレッドが立ち上がったら現在のストリームを終了させる\n",
    "                return True\n",
    "            for trend in trend_list:\n",
    "                if trend in tweet['text']:\n",
    "                    doc = {\n",
    "                        'track': trend,\n",
    "                        'text': tweet['text'],\n",
    "                        'created_at': str(parser.parse(tweet['created_at']).astimezone(JST).isoformat())\n",
    "                    }\n",
    "                    self.__es.index(index=\"testindex\", doc_type='tweet', body=doc)"
   ]
  },
  {
   "cell_type": "code",
   "execution_count": 6,
   "metadata": {
    "collapsed": true
   },
   "outputs": [],
   "source": [
    "#料理関係に限定\n",
    "class TwitterTrendStream():\n",
    "\n",
    "    def __init__(self):\n",
    "        self.__current_thread_ident = None\n",
    "        self.__oauth = OAuth(**OAUTH_INFO)\n",
    "        self.__es = Elasticsearch()\n",
    "\n",
    "    def __fetch_trands(self, twitter):\n",
    "        response = twitter.trends.place(_id=WOEID_JP)\n",
    "        return [trend[\"name\"] for trend in response[0][\"trends\"]]\n",
    "    #streamで取得したいデータを指定\n",
    "    def __get_word(self):\n",
    "        return ['料理','レシピ','おいしい','美味','うま']\n",
    "    def __fetch_filter_stream(self, twitter_stream, track_list):\n",
    "        track = \",\".join(track_list)\n",
    "        return twitter_stream.statuses.filter(track=track)\n",
    "\n",
    "    def run(self):\n",
    "        self.__current_thread_ident = get_ident() # 現在の実行スレッドIDを登録\n",
    "        Timer(300, self.run).start()              # ５分後に新たなスレッドを開始\n",
    "\n",
    "        twitter = Twitter(auth=self.__oauth)\n",
    "        twitter_stream = TwitterStream(auth=self.__oauth, **STREAM_INFO)\n",
    "\n",
    "        trend_list = self.__get_word()\n",
    "        print(trend_list)\n",
    "        tweet_iter = self.__fetch_filter_stream(twitter_stream, trend_list)\n",
    "\n",
    "        for tweet in tweet_iter:\n",
    "            if \"limit\" in tweet: # 取得上限超えた時にくるLimit Jsonは無視\n",
    "                continue\n",
    "\n",
    "            if self.__current_thread_ident != get_ident(): # 新たなスレッドが立ち上がったら現在のストリームを終了させる\n",
    "                return True\n",
    "            for trend in trend_list:\n",
    "                if trend in tweet['text']:\n",
    "                    doc = {\n",
    "                        'track': trend,\n",
    "                        'text': tweet['text'],\n",
    "                        'created_at': str(parser.parse(tweet['created_at']).astimezone(JST).isoformat())\n",
    "                    }\n",
    "                    self.__es.index(index=\"recipeindex\", doc_type='tweet', body=doc)"
   ]
  },
  {
   "cell_type": "code",
   "execution_count": 3,
   "metadata": {},
   "outputs": [
    {
     "ename": "KeyboardInterrupt",
     "evalue": "",
     "output_type": "error",
     "traceback": [
      "\u001b[0;31m--------------------------------------------------\u001b[0m",
      "\u001b[0;31mKeyboardInterrupt\u001b[0mTraceback (most recent call last)",
      "\u001b[0;32m<ipython-input-3-81719d294b8d>\u001b[0m in \u001b[0;36m<module>\u001b[0;34m()\u001b[0m\n\u001b[0;32m----> 1\u001b[0;31m \u001b[0mTwitterTrendStream\u001b[0m\u001b[0;34m(\u001b[0m\u001b[0;34m)\u001b[0m\u001b[0;34m.\u001b[0m\u001b[0mrun\u001b[0m\u001b[0;34m(\u001b[0m\u001b[0;34m)\u001b[0m\u001b[0;34m\u001b[0m\u001b[0m\n\u001b[0m",
      "\u001b[0;32m<ipython-input-2-6a73b9879f08>\u001b[0m in \u001b[0;36mrun\u001b[0;34m(self)\u001b[0m\n\u001b[1;32m     25\u001b[0m         \u001b[0mtweet_iter\u001b[0m \u001b[0;34m=\u001b[0m \u001b[0mself\u001b[0m\u001b[0;34m.\u001b[0m\u001b[0m__fetch_filter_stream\u001b[0m\u001b[0;34m(\u001b[0m\u001b[0mtwitter_stream\u001b[0m\u001b[0;34m,\u001b[0m \u001b[0mtrend_list\u001b[0m\u001b[0;34m)\u001b[0m\u001b[0;34m\u001b[0m\u001b[0m\n\u001b[1;32m     26\u001b[0m \u001b[0;34m\u001b[0m\u001b[0m\n\u001b[0;32m---> 27\u001b[0;31m         \u001b[0;32mfor\u001b[0m \u001b[0mtweet\u001b[0m \u001b[0;32min\u001b[0m \u001b[0mtweet_iter\u001b[0m\u001b[0;34m:\u001b[0m\u001b[0;34m\u001b[0m\u001b[0m\n\u001b[0m\u001b[1;32m     28\u001b[0m             \u001b[0;32mif\u001b[0m \u001b[0;34m\"limit\"\u001b[0m \u001b[0;32min\u001b[0m \u001b[0mtweet\u001b[0m\u001b[0;34m:\u001b[0m \u001b[0;31m# 取得上限超えた時にくるLimit Jsonは無視\u001b[0m\u001b[0;34m\u001b[0m\u001b[0m\n\u001b[1;32m     29\u001b[0m                 \u001b[0;32mcontinue\u001b[0m\u001b[0;34m\u001b[0m\u001b[0m\n",
      "\u001b[0;32m/root/anaconda3/lib/python3.6/site-packages/twitter/stream.py\u001b[0m in \u001b[0;36m__iter__\u001b[0;34m(self)\u001b[0m\n\u001b[1;32m    174\u001b[0m         \u001b[0;32mwhile\u001b[0m \u001b[0;32mTrue\u001b[0m\u001b[0;34m:\u001b[0m\u001b[0;34m\u001b[0m\u001b[0m\n\u001b[1;32m    175\u001b[0m             \u001b[0;31m# Decode all the things:\u001b[0m\u001b[0;34m\u001b[0m\u001b[0;34m\u001b[0m\u001b[0m\n\u001b[0;32m--> 176\u001b[0;31m             \u001b[0mdata\u001b[0m \u001b[0;34m=\u001b[0m \u001b[0msock_reader\u001b[0m\u001b[0;34m.\u001b[0m\u001b[0mread\u001b[0m\u001b[0;34m(\u001b[0m\u001b[0;34m)\u001b[0m\u001b[0;34m\u001b[0m\u001b[0m\n\u001b[0m\u001b[1;32m    177\u001b[0m             \u001b[0mdechunked_data\u001b[0m\u001b[0;34m,\u001b[0m \u001b[0mend_of_stream\u001b[0m\u001b[0;34m,\u001b[0m \u001b[0mdecode_error\u001b[0m \u001b[0;34m=\u001b[0m \u001b[0mchunk_decoder\u001b[0m\u001b[0;34m.\u001b[0m\u001b[0mdecode\u001b[0m\u001b[0;34m(\u001b[0m\u001b[0mdata\u001b[0m\u001b[0;34m)\u001b[0m\u001b[0;34m\u001b[0m\u001b[0m\n\u001b[1;32m    178\u001b[0m             \u001b[0municode_data\u001b[0m \u001b[0;34m=\u001b[0m \u001b[0mutf8_decoder\u001b[0m\u001b[0;34m.\u001b[0m\u001b[0mdecode\u001b[0m\u001b[0;34m(\u001b[0m\u001b[0mdechunked_data\u001b[0m\u001b[0;34m)\u001b[0m\u001b[0;34m\u001b[0m\u001b[0m\n",
      "\u001b[0;32m/root/anaconda3/lib/python3.6/site-packages/twitter/stream.py\u001b[0m in \u001b[0;36mread\u001b[0;34m(self)\u001b[0m\n\u001b[1;32m    131\u001b[0m     \u001b[0;32mdef\u001b[0m \u001b[0mread\u001b[0m\u001b[0;34m(\u001b[0m\u001b[0mself\u001b[0m\u001b[0;34m)\u001b[0m\u001b[0;34m:\u001b[0m\u001b[0;34m\u001b[0m\u001b[0m\n\u001b[1;32m    132\u001b[0m         \u001b[0;32mtry\u001b[0m\u001b[0;34m:\u001b[0m\u001b[0;34m\u001b[0m\u001b[0m\n\u001b[0;32m--> 133\u001b[0;31m             \u001b[0mready_to_read\u001b[0m \u001b[0;34m=\u001b[0m \u001b[0mselect\u001b[0m\u001b[0;34m.\u001b[0m\u001b[0mselect\u001b[0m\u001b[0;34m(\u001b[0m\u001b[0;34m[\u001b[0m\u001b[0mself\u001b[0m\u001b[0;34m.\u001b[0m\u001b[0msock\u001b[0m\u001b[0;34m]\u001b[0m\u001b[0;34m,\u001b[0m \u001b[0;34m[\u001b[0m\u001b[0;34m]\u001b[0m\u001b[0;34m,\u001b[0m \u001b[0;34m[\u001b[0m\u001b[0;34m]\u001b[0m\u001b[0;34m,\u001b[0m \u001b[0mself\u001b[0m\u001b[0;34m.\u001b[0m\u001b[0msock_timeout\u001b[0m\u001b[0;34m)\u001b[0m\u001b[0;34m[\u001b[0m\u001b[0;36m0\u001b[0m\u001b[0;34m]\u001b[0m\u001b[0;34m\u001b[0m\u001b[0m\n\u001b[0m\u001b[1;32m    134\u001b[0m             \u001b[0;32mif\u001b[0m \u001b[0mready_to_read\u001b[0m\u001b[0;34m:\u001b[0m\u001b[0;34m\u001b[0m\u001b[0m\n\u001b[1;32m    135\u001b[0m                 \u001b[0;32mreturn\u001b[0m \u001b[0mself\u001b[0m\u001b[0;34m.\u001b[0m\u001b[0msock\u001b[0m\u001b[0;34m.\u001b[0m\u001b[0mread\u001b[0m\u001b[0;34m(\u001b[0m\u001b[0;34m)\u001b[0m\u001b[0;34m\u001b[0m\u001b[0m\n",
      "\u001b[0;31mKeyboardInterrupt\u001b[0m: "
     ]
    }
   ],
   "source": [
    "TwitterTrendStream().run()"
   ]
  },
  {
   "cell_type": "code",
   "execution_count": null,
   "metadata": {
    "collapsed": true
   },
   "outputs": [],
   "source": []
  }
 ],
 "metadata": {
  "kernelspec": {
   "display_name": "Python 3",
   "language": "python",
   "name": "python3"
  },
  "language_info": {
   "codemirror_mode": {
    "name": "ipython",
    "version": 3
   },
   "file_extension": ".py",
   "mimetype": "text/x-python",
   "name": "python",
   "nbconvert_exporter": "python",
   "pygments_lexer": "ipython3",
   "version": "3.6.1"
  }
 },
 "nbformat": 4,
 "nbformat_minor": 2
}
